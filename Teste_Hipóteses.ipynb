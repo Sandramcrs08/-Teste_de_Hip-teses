{
  "nbformat": 4,
  "nbformat_minor": 0,
  "metadata": {
    "colab": {
      "provenance": [],
      "include_colab_link": true
    },
    "kernelspec": {
      "name": "python3",
      "display_name": "Python 3"
    },
    "language_info": {
      "name": "python"
    }
  },
  "cells": [
    {
      "cell_type": "markdown",
      "metadata": {
        "id": "view-in-github",
        "colab_type": "text"
      },
      "source": [
        "<a href=\"https://colab.research.google.com/github/Sandramcrs08/-Teste_de_Hip-teses/blob/main/Teste_Hip%C3%B3teses.ipynb\" target=\"_parent\"><img src=\"https://colab.research.google.com/assets/colab-badge.svg\" alt=\"Open In Colab\"/></a>"
      ]
    },
    {
      "cell_type": "markdown",
      "source": [
        "# Challenge Teste de Hipóteses\n",
        "\n",
        "## Squad Marie Curie"
      ],
      "metadata": {
        "id": "ZEyjMa5M5JKy"
      }
    },
    {
      "cell_type": "code",
      "source": [
        "##Bibliotecas utilizadas\n",
        "### para manipulação dos dados em python\n",
        "import pandas as pd\n",
        "import numpy as np\n",
        "\n",
        "### Para visualizaçaõ dos dados\n",
        "import seaborn as sns\n",
        "import matplotlib.pyplot as plt\n",
        "\n",
        "#O módulo stats da biblioteca Scipy contém uma ampla variedade de funções e classes relacionadas a estatísticas e distribuições de probabilidade.\n",
        "from scipy import stats\n",
        "\n",
        "#importando a função f_oneway para realizar um teste de análise de variância (ANOVA)\n",
        "from scipy.stats import f_oneway"
      ],
      "metadata": {
        "id": "T4l12WOk5IqN"
      },
      "execution_count": null,
      "outputs": []
    },
    {
      "cell_type": "code",
      "source": [
        "# lendo os arquivos csv\n",
        "df = pd.read_csv('desafio_01_cosmeticos.csv')"
      ],
      "metadata": {
        "id": "HFwrVpyn7h6x"
      },
      "execution_count": null,
      "outputs": []
    },
    {
      "cell_type": "markdown",
      "source": [
        "### Desafio 1 : Cosméticos"
      ],
      "metadata": {
        "id": "1R0VQWQW3NrK"
      }
    },
    {
      "cell_type": "markdown",
      "source": [
        "Suponha que você trabalha em uma empresa do ramo de cosméticos ou beleza. O\n",
        "Time de produtos dessa empresa está interessado criar novos batons com maior\n",
        "durabilidade. Para isso estão testando 3 diferentes fórmulas para irem a mercado.\n",
        "Com isso, a empresa fez uma pesquisa com varias voluntárias e populou a base de\n",
        "dados (desafio_01_cosmeticos.csv) contendo as seguintes informacoes: <br> <br>\n",
        "● id_produto: código identificador do produto, com a fórmula utilizada. Para\n",
        "diferenciarmos se se trata do batom com a fórmula 1, 2 ou 3<br>\n",
        "● id_voluntária: código identificador da voluntária que utilizou o produto.<br>\n",
        "● durabilidade: quanto tempo o produto durou em horas.<br>\n",
        "● idade: idade da voluntária<br>\n",
        "● exposicao_sol: variável que indica 1 se a voluntária se expos ao sol 0 caso\n",
        "contrário.<br><br>\n"
      ],
      "metadata": {
        "id": "cON97_6w3Uc3"
      }
    },
    {
      "cell_type": "code",
      "source": [
        "#Visualização do dataframe\n",
        "df"
      ],
      "metadata": {
        "id": "sMTAU7sk5cYS",
        "colab": {
          "base_uri": "https://localhost:8080/",
          "height": 423
        },
        "outputId": "6971c58a-9792-4c8a-f122-b01981896c35"
      },
      "execution_count": null,
      "outputs": [
        {
          "output_type": "execute_result",
          "data": {
            "text/plain": [
              "     id_produto  id_voluntária  durabilidade  idade  exposicao_sol  \\\n",
              "0             1              1            12     40              1   \n",
              "1             2              2             5     36              0   \n",
              "2             1              3            19     47              0   \n",
              "3             1              4            14     36              1   \n",
              "4             1              5            17     46              1   \n",
              "..          ...            ...           ...    ...            ...   \n",
              "295           3            296            18     52              0   \n",
              "296           3            297            30     19              0   \n",
              "297           3            298            43     23              1   \n",
              "298           3            299            41     19              0   \n",
              "299           3            300            25     21              0   \n",
              "\n",
              "    faixa_etaria  \n",
              "0          31-40  \n",
              "1          31-40  \n",
              "2          41-50  \n",
              "3          31-40  \n",
              "4          41-50  \n",
              "..           ...  \n",
              "295        51-60  \n",
              "296         0-20  \n",
              "297        21-30  \n",
              "298         0-20  \n",
              "299        21-30  \n",
              "\n",
              "[300 rows x 6 columns]"
            ],
            "text/html": [
              "\n",
              "  <div id=\"df-9f28342c-927d-45bf-813d-5edc29174b36\" class=\"colab-df-container\">\n",
              "    <div>\n",
              "<style scoped>\n",
              "    .dataframe tbody tr th:only-of-type {\n",
              "        vertical-align: middle;\n",
              "    }\n",
              "\n",
              "    .dataframe tbody tr th {\n",
              "        vertical-align: top;\n",
              "    }\n",
              "\n",
              "    .dataframe thead th {\n",
              "        text-align: right;\n",
              "    }\n",
              "</style>\n",
              "<table border=\"1\" class=\"dataframe\">\n",
              "  <thead>\n",
              "    <tr style=\"text-align: right;\">\n",
              "      <th></th>\n",
              "      <th>id_produto</th>\n",
              "      <th>id_voluntária</th>\n",
              "      <th>durabilidade</th>\n",
              "      <th>idade</th>\n",
              "      <th>exposicao_sol</th>\n",
              "      <th>faixa_etaria</th>\n",
              "    </tr>\n",
              "  </thead>\n",
              "  <tbody>\n",
              "    <tr>\n",
              "      <th>0</th>\n",
              "      <td>1</td>\n",
              "      <td>1</td>\n",
              "      <td>12</td>\n",
              "      <td>40</td>\n",
              "      <td>1</td>\n",
              "      <td>31-40</td>\n",
              "    </tr>\n",
              "    <tr>\n",
              "      <th>1</th>\n",
              "      <td>2</td>\n",
              "      <td>2</td>\n",
              "      <td>5</td>\n",
              "      <td>36</td>\n",
              "      <td>0</td>\n",
              "      <td>31-40</td>\n",
              "    </tr>\n",
              "    <tr>\n",
              "      <th>2</th>\n",
              "      <td>1</td>\n",
              "      <td>3</td>\n",
              "      <td>19</td>\n",
              "      <td>47</td>\n",
              "      <td>0</td>\n",
              "      <td>41-50</td>\n",
              "    </tr>\n",
              "    <tr>\n",
              "      <th>3</th>\n",
              "      <td>1</td>\n",
              "      <td>4</td>\n",
              "      <td>14</td>\n",
              "      <td>36</td>\n",
              "      <td>1</td>\n",
              "      <td>31-40</td>\n",
              "    </tr>\n",
              "    <tr>\n",
              "      <th>4</th>\n",
              "      <td>1</td>\n",
              "      <td>5</td>\n",
              "      <td>17</td>\n",
              "      <td>46</td>\n",
              "      <td>1</td>\n",
              "      <td>41-50</td>\n",
              "    </tr>\n",
              "    <tr>\n",
              "      <th>...</th>\n",
              "      <td>...</td>\n",
              "      <td>...</td>\n",
              "      <td>...</td>\n",
              "      <td>...</td>\n",
              "      <td>...</td>\n",
              "      <td>...</td>\n",
              "    </tr>\n",
              "    <tr>\n",
              "      <th>295</th>\n",
              "      <td>3</td>\n",
              "      <td>296</td>\n",
              "      <td>18</td>\n",
              "      <td>52</td>\n",
              "      <td>0</td>\n",
              "      <td>51-60</td>\n",
              "    </tr>\n",
              "    <tr>\n",
              "      <th>296</th>\n",
              "      <td>3</td>\n",
              "      <td>297</td>\n",
              "      <td>30</td>\n",
              "      <td>19</td>\n",
              "      <td>0</td>\n",
              "      <td>0-20</td>\n",
              "    </tr>\n",
              "    <tr>\n",
              "      <th>297</th>\n",
              "      <td>3</td>\n",
              "      <td>298</td>\n",
              "      <td>43</td>\n",
              "      <td>23</td>\n",
              "      <td>1</td>\n",
              "      <td>21-30</td>\n",
              "    </tr>\n",
              "    <tr>\n",
              "      <th>298</th>\n",
              "      <td>3</td>\n",
              "      <td>299</td>\n",
              "      <td>41</td>\n",
              "      <td>19</td>\n",
              "      <td>0</td>\n",
              "      <td>0-20</td>\n",
              "    </tr>\n",
              "    <tr>\n",
              "      <th>299</th>\n",
              "      <td>3</td>\n",
              "      <td>300</td>\n",
              "      <td>25</td>\n",
              "      <td>21</td>\n",
              "      <td>0</td>\n",
              "      <td>21-30</td>\n",
              "    </tr>\n",
              "  </tbody>\n",
              "</table>\n",
              "<p>300 rows × 6 columns</p>\n",
              "</div>\n",
              "    <div class=\"colab-df-buttons\">\n",
              "\n",
              "  <div class=\"colab-df-container\">\n",
              "    <button class=\"colab-df-convert\" onclick=\"convertToInteractive('df-9f28342c-927d-45bf-813d-5edc29174b36')\"\n",
              "            title=\"Convert this dataframe to an interactive table.\"\n",
              "            style=\"display:none;\">\n",
              "\n",
              "  <svg xmlns=\"http://www.w3.org/2000/svg\" height=\"24px\" viewBox=\"0 -960 960 960\">\n",
              "    <path d=\"M120-120v-720h720v720H120Zm60-500h600v-160H180v160Zm220 220h160v-160H400v160Zm0 220h160v-160H400v160ZM180-400h160v-160H180v160Zm440 0h160v-160H620v160ZM180-180h160v-160H180v160Zm440 0h160v-160H620v160Z\"/>\n",
              "  </svg>\n",
              "    </button>\n",
              "\n",
              "  <style>\n",
              "    .colab-df-container {\n",
              "      display:flex;\n",
              "      gap: 12px;\n",
              "    }\n",
              "\n",
              "    .colab-df-convert {\n",
              "      background-color: #E8F0FE;\n",
              "      border: none;\n",
              "      border-radius: 50%;\n",
              "      cursor: pointer;\n",
              "      display: none;\n",
              "      fill: #1967D2;\n",
              "      height: 32px;\n",
              "      padding: 0 0 0 0;\n",
              "      width: 32px;\n",
              "    }\n",
              "\n",
              "    .colab-df-convert:hover {\n",
              "      background-color: #E2EBFA;\n",
              "      box-shadow: 0px 1px 2px rgba(60, 64, 67, 0.3), 0px 1px 3px 1px rgba(60, 64, 67, 0.15);\n",
              "      fill: #174EA6;\n",
              "    }\n",
              "\n",
              "    .colab-df-buttons div {\n",
              "      margin-bottom: 4px;\n",
              "    }\n",
              "\n",
              "    [theme=dark] .colab-df-convert {\n",
              "      background-color: #3B4455;\n",
              "      fill: #D2E3FC;\n",
              "    }\n",
              "\n",
              "    [theme=dark] .colab-df-convert:hover {\n",
              "      background-color: #434B5C;\n",
              "      box-shadow: 0px 1px 3px 1px rgba(0, 0, 0, 0.15);\n",
              "      filter: drop-shadow(0px 1px 2px rgba(0, 0, 0, 0.3));\n",
              "      fill: #FFFFFF;\n",
              "    }\n",
              "  </style>\n",
              "\n",
              "    <script>\n",
              "      const buttonEl =\n",
              "        document.querySelector('#df-9f28342c-927d-45bf-813d-5edc29174b36 button.colab-df-convert');\n",
              "      buttonEl.style.display =\n",
              "        google.colab.kernel.accessAllowed ? 'block' : 'none';\n",
              "\n",
              "      async function convertToInteractive(key) {\n",
              "        const element = document.querySelector('#df-9f28342c-927d-45bf-813d-5edc29174b36');\n",
              "        const dataTable =\n",
              "          await google.colab.kernel.invokeFunction('convertToInteractive',\n",
              "                                                    [key], {});\n",
              "        if (!dataTable) return;\n",
              "\n",
              "        const docLinkHtml = 'Like what you see? Visit the ' +\n",
              "          '<a target=\"_blank\" href=https://colab.research.google.com/notebooks/data_table.ipynb>data table notebook</a>'\n",
              "          + ' to learn more about interactive tables.';\n",
              "        element.innerHTML = '';\n",
              "        dataTable['output_type'] = 'display_data';\n",
              "        await google.colab.output.renderOutput(dataTable, element);\n",
              "        const docLink = document.createElement('div');\n",
              "        docLink.innerHTML = docLinkHtml;\n",
              "        element.appendChild(docLink);\n",
              "      }\n",
              "    </script>\n",
              "  </div>\n",
              "\n",
              "\n",
              "<div id=\"df-a48b501e-6bec-4324-a45e-5169a50a1735\">\n",
              "  <button class=\"colab-df-quickchart\" onclick=\"quickchart('df-a48b501e-6bec-4324-a45e-5169a50a1735')\"\n",
              "            title=\"Suggest charts\"\n",
              "            style=\"display:none;\">\n",
              "\n",
              "<svg xmlns=\"http://www.w3.org/2000/svg\" height=\"24px\"viewBox=\"0 0 24 24\"\n",
              "     width=\"24px\">\n",
              "    <g>\n",
              "        <path d=\"M19 3H5c-1.1 0-2 .9-2 2v14c0 1.1.9 2 2 2h14c1.1 0 2-.9 2-2V5c0-1.1-.9-2-2-2zM9 17H7v-7h2v7zm4 0h-2V7h2v10zm4 0h-2v-4h2v4z\"/>\n",
              "    </g>\n",
              "</svg>\n",
              "  </button>\n",
              "\n",
              "<style>\n",
              "  .colab-df-quickchart {\n",
              "      --bg-color: #E8F0FE;\n",
              "      --fill-color: #1967D2;\n",
              "      --hover-bg-color: #E2EBFA;\n",
              "      --hover-fill-color: #174EA6;\n",
              "      --disabled-fill-color: #AAA;\n",
              "      --disabled-bg-color: #DDD;\n",
              "  }\n",
              "\n",
              "  [theme=dark] .colab-df-quickchart {\n",
              "      --bg-color: #3B4455;\n",
              "      --fill-color: #D2E3FC;\n",
              "      --hover-bg-color: #434B5C;\n",
              "      --hover-fill-color: #FFFFFF;\n",
              "      --disabled-bg-color: #3B4455;\n",
              "      --disabled-fill-color: #666;\n",
              "  }\n",
              "\n",
              "  .colab-df-quickchart {\n",
              "    background-color: var(--bg-color);\n",
              "    border: none;\n",
              "    border-radius: 50%;\n",
              "    cursor: pointer;\n",
              "    display: none;\n",
              "    fill: var(--fill-color);\n",
              "    height: 32px;\n",
              "    padding: 0;\n",
              "    width: 32px;\n",
              "  }\n",
              "\n",
              "  .colab-df-quickchart:hover {\n",
              "    background-color: var(--hover-bg-color);\n",
              "    box-shadow: 0 1px 2px rgba(60, 64, 67, 0.3), 0 1px 3px 1px rgba(60, 64, 67, 0.15);\n",
              "    fill: var(--button-hover-fill-color);\n",
              "  }\n",
              "\n",
              "  .colab-df-quickchart-complete:disabled,\n",
              "  .colab-df-quickchart-complete:disabled:hover {\n",
              "    background-color: var(--disabled-bg-color);\n",
              "    fill: var(--disabled-fill-color);\n",
              "    box-shadow: none;\n",
              "  }\n",
              "\n",
              "  .colab-df-spinner {\n",
              "    border: 2px solid var(--fill-color);\n",
              "    border-color: transparent;\n",
              "    border-bottom-color: var(--fill-color);\n",
              "    animation:\n",
              "      spin 1s steps(1) infinite;\n",
              "  }\n",
              "\n",
              "  @keyframes spin {\n",
              "    0% {\n",
              "      border-color: transparent;\n",
              "      border-bottom-color: var(--fill-color);\n",
              "      border-left-color: var(--fill-color);\n",
              "    }\n",
              "    20% {\n",
              "      border-color: transparent;\n",
              "      border-left-color: var(--fill-color);\n",
              "      border-top-color: var(--fill-color);\n",
              "    }\n",
              "    30% {\n",
              "      border-color: transparent;\n",
              "      border-left-color: var(--fill-color);\n",
              "      border-top-color: var(--fill-color);\n",
              "      border-right-color: var(--fill-color);\n",
              "    }\n",
              "    40% {\n",
              "      border-color: transparent;\n",
              "      border-right-color: var(--fill-color);\n",
              "      border-top-color: var(--fill-color);\n",
              "    }\n",
              "    60% {\n",
              "      border-color: transparent;\n",
              "      border-right-color: var(--fill-color);\n",
              "    }\n",
              "    80% {\n",
              "      border-color: transparent;\n",
              "      border-right-color: var(--fill-color);\n",
              "      border-bottom-color: var(--fill-color);\n",
              "    }\n",
              "    90% {\n",
              "      border-color: transparent;\n",
              "      border-bottom-color: var(--fill-color);\n",
              "    }\n",
              "  }\n",
              "</style>\n",
              "\n",
              "  <script>\n",
              "    async function quickchart(key) {\n",
              "      const quickchartButtonEl =\n",
              "        document.querySelector('#' + key + ' button');\n",
              "      quickchartButtonEl.disabled = true;  // To prevent multiple clicks.\n",
              "      quickchartButtonEl.classList.add('colab-df-spinner');\n",
              "      try {\n",
              "        const charts = await google.colab.kernel.invokeFunction(\n",
              "            'suggestCharts', [key], {});\n",
              "      } catch (error) {\n",
              "        console.error('Error during call to suggestCharts:', error);\n",
              "      }\n",
              "      quickchartButtonEl.classList.remove('colab-df-spinner');\n",
              "      quickchartButtonEl.classList.add('colab-df-quickchart-complete');\n",
              "    }\n",
              "    (() => {\n",
              "      let quickchartButtonEl =\n",
              "        document.querySelector('#df-a48b501e-6bec-4324-a45e-5169a50a1735 button');\n",
              "      quickchartButtonEl.style.display =\n",
              "        google.colab.kernel.accessAllowed ? 'block' : 'none';\n",
              "    })();\n",
              "  </script>\n",
              "</div>\n",
              "\n",
              "  <div id=\"id_906da055-bce9-415b-8d5e-b253ab491f3a\">\n",
              "    <style>\n",
              "      .colab-df-generate {\n",
              "        background-color: #E8F0FE;\n",
              "        border: none;\n",
              "        border-radius: 50%;\n",
              "        cursor: pointer;\n",
              "        display: none;\n",
              "        fill: #1967D2;\n",
              "        height: 32px;\n",
              "        padding: 0 0 0 0;\n",
              "        width: 32px;\n",
              "      }\n",
              "\n",
              "      .colab-df-generate:hover {\n",
              "        background-color: #E2EBFA;\n",
              "        box-shadow: 0px 1px 2px rgba(60, 64, 67, 0.3), 0px 1px 3px 1px rgba(60, 64, 67, 0.15);\n",
              "        fill: #174EA6;\n",
              "      }\n",
              "\n",
              "      [theme=dark] .colab-df-generate {\n",
              "        background-color: #3B4455;\n",
              "        fill: #D2E3FC;\n",
              "      }\n",
              "\n",
              "      [theme=dark] .colab-df-generate:hover {\n",
              "        background-color: #434B5C;\n",
              "        box-shadow: 0px 1px 3px 1px rgba(0, 0, 0, 0.15);\n",
              "        filter: drop-shadow(0px 1px 2px rgba(0, 0, 0, 0.3));\n",
              "        fill: #FFFFFF;\n",
              "      }\n",
              "    </style>\n",
              "    <button class=\"colab-df-generate\" onclick=\"generateWithVariable('df')\"\n",
              "            title=\"Generate code using this dataframe.\"\n",
              "            style=\"display:none;\">\n",
              "\n",
              "  <svg xmlns=\"http://www.w3.org/2000/svg\" height=\"24px\"viewBox=\"0 0 24 24\"\n",
              "       width=\"24px\">\n",
              "    <path d=\"M7,19H8.4L18.45,9,17,7.55,7,17.6ZM5,21V16.75L18.45,3.32a2,2,0,0,1,2.83,0l1.4,1.43a1.91,1.91,0,0,1,.58,1.4,1.91,1.91,0,0,1-.58,1.4L9.25,21ZM18.45,9,17,7.55Zm-12,3A5.31,5.31,0,0,0,4.9,8.1,5.31,5.31,0,0,0,1,6.5,5.31,5.31,0,0,0,4.9,4.9,5.31,5.31,0,0,0,6.5,1,5.31,5.31,0,0,0,8.1,4.9,5.31,5.31,0,0,0,12,6.5,5.46,5.46,0,0,0,6.5,12Z\"/>\n",
              "  </svg>\n",
              "    </button>\n",
              "    <script>\n",
              "      (() => {\n",
              "      const buttonEl =\n",
              "        document.querySelector('#id_906da055-bce9-415b-8d5e-b253ab491f3a button.colab-df-generate');\n",
              "      buttonEl.style.display =\n",
              "        google.colab.kernel.accessAllowed ? 'block' : 'none';\n",
              "\n",
              "      buttonEl.onclick = () => {\n",
              "        google.colab.notebook.generateWithVariable('df');\n",
              "      }\n",
              "      })();\n",
              "    </script>\n",
              "  </div>\n",
              "\n",
              "    </div>\n",
              "  </div>\n"
            ],
            "application/vnd.google.colaboratory.intrinsic+json": {
              "type": "dataframe",
              "variable_name": "df",
              "summary": "{\n  \"name\": \"df\",\n  \"rows\": 300,\n  \"fields\": [\n    {\n      \"column\": \"id_produto\",\n      \"properties\": {\n        \"dtype\": \"number\",\n        \"std\": 0,\n        \"min\": 1,\n        \"max\": 3,\n        \"num_unique_values\": 3,\n        \"samples\": [\n          1,\n          2,\n          3\n        ],\n        \"semantic_type\": \"\",\n        \"description\": \"\"\n      }\n    },\n    {\n      \"column\": \"id_volunt\\u00e1ria\",\n      \"properties\": {\n        \"dtype\": \"number\",\n        \"std\": 86,\n        \"min\": 1,\n        \"max\": 300,\n        \"num_unique_values\": 300,\n        \"samples\": [\n          204,\n          267,\n          153\n        ],\n        \"semantic_type\": \"\",\n        \"description\": \"\"\n      }\n    },\n    {\n      \"column\": \"durabilidade\",\n      \"properties\": {\n        \"dtype\": \"number\",\n        \"std\": 10,\n        \"min\": 5,\n        \"max\": 48,\n        \"num_unique_values\": 39,\n        \"samples\": [\n          44,\n          27,\n          17\n        ],\n        \"semantic_type\": \"\",\n        \"description\": \"\"\n      }\n    },\n    {\n      \"column\": \"idade\",\n      \"properties\": {\n        \"dtype\": \"number\",\n        \"std\": 12,\n        \"min\": 18,\n        \"max\": 60,\n        \"num_unique_values\": 43,\n        \"samples\": [\n          59,\n          48,\n          41\n        ],\n        \"semantic_type\": \"\",\n        \"description\": \"\"\n      }\n    },\n    {\n      \"column\": \"exposicao_sol\",\n      \"properties\": {\n        \"dtype\": \"number\",\n        \"std\": 0,\n        \"min\": 0,\n        \"max\": 1,\n        \"num_unique_values\": 2,\n        \"samples\": [\n          0,\n          1\n        ],\n        \"semantic_type\": \"\",\n        \"description\": \"\"\n      }\n    },\n    {\n      \"column\": \"faixa_etaria\",\n      \"properties\": {\n        \"dtype\": \"category\",\n        \"num_unique_values\": 5,\n        \"samples\": [\n          \"41-50\",\n          \"0-20\"\n        ],\n        \"semantic_type\": \"\",\n        \"description\": \"\"\n      }\n    }\n  ]\n}"
            }
          },
          "metadata": {},
          "execution_count": 31
        }
      ]
    },
    {
      "cell_type": "markdown",
      "source": [
        "De posse dessas informacoes, o time de produtos solicitou aos analistas de dados da empresa as seguintes perguntas a serem respondidas:"
      ],
      "metadata": {
        "id": "Jj6RFKWR5bbc"
      }
    },
    {
      "cell_type": "markdown",
      "source": [
        "1 - Existe diferenca estatisticamente significativa na durabilidade dos batons com formulas diferentes?"
      ],
      "metadata": {
        "id": "9QIHiDRQ3oqn"
      }
    },
    {
      "cell_type": "code",
      "source": [
        "# solução da questão 1\n",
        "# Barbara\n",
        "#Filtro que retorna os valores da coluna durabilidade para cada tipo de batom.\n",
        "batom_1 = df[df['id_produto'] == 1]['durabilidade']\n",
        "batom_2 = df[df['id_produto'] == 2]['durabilidade']\n",
        "batom_3 = df[df['id_produto'] == 1]['durabilidade']\n",
        "\n",
        "# Utilizando o teste ANOVA para verificar se há diferenças significativas nas médias entre as três amostras\n",
        "anova_test = f_oneway(batom_1,batom_2,batom_3)\n",
        "print(f'A estatística F é: {anova_test.statistic}. O p_valor é: {anova_test.pvalue}.')\n",
        "\n",
        "# Definindo o nível de significância para o teste.\n",
        "alfa = 0.05\n",
        "\n",
        "# Verificar se há diferença estatisticamento significativa na durabilidade entre as três fórmulas de batons\n",
        "if anova_test.pvalue > alfa:\n",
        "  print('A hipótese H0 não pode ser rejeitada.')\n",
        "else:\n",
        "  print('A hipótese H1 pode ser rejetada.')\n",
        "\n"
      ],
      "metadata": {
        "id": "yAduL70t5GcR",
        "colab": {
          "base_uri": "https://localhost:8080/"
        },
        "outputId": "46accdf6-30e7-414f-dda6-20a5d2b45bb6"
      },
      "execution_count": null,
      "outputs": [
        {
          "output_type": "stream",
          "name": "stdout",
          "text": [
            "A estatística F é: 212.5575122843515. O p_valor é: 5.026724927782344e-58.\n",
            "A hipótese H1 pode ser rejetada.\n"
          ]
        }
      ]
    },
    {
      "cell_type": "markdown",
      "source": [
        "2 - Essa diferenca persiste ou nao quando a voluntária se expoe ao sol? E com\n",
        "relacao a idade?"
      ],
      "metadata": {
        "id": "RMz3tFsX3vAI"
      }
    },
    {
      "cell_type": "code",
      "source": [
        "# solução da questão 2\n",
        "# Juliana\n",
        "\n",
        "# Dividindo os dados por fórmula (id_produto) para análise\n",
        "formulas = df['id_produto'].unique()\n",
        "\n",
        "# Listas para armazenar resultados dos testes\n",
        "results = []\n",
        "\n",
        "# Comparando a durabilidade entre as diferentes fórmulas\n",
        "for formula in formulas:\n",
        "    durabilidade_formula = df[df['id_produto'] == formula]['durabilidade']\n",
        "    mean_durabilidade = durabilidade_formula.mean()\n",
        "    std_durabilidade = durabilidade_formula.std()\n",
        "    results.append({'id_produto': formula, 'media_durabilidade': mean_durabilidade, 'desvio_padrao_durabilidade': std_durabilidade})\n",
        "\n",
        "# DataFrame com os resultados\n",
        "df_results = pd.DataFrame(results)\n",
        "print(\"\\nComparação de Durabilidade por Fórmula:\")\n",
        "print(df_results)"
      ],
      "metadata": {
        "id": "-wjvLi--5HU0",
        "colab": {
          "base_uri": "https://localhost:8080/"
        },
        "outputId": "d5ccee64-1b62-4186-b7ec-3b76bc82ada9"
      },
      "execution_count": null,
      "outputs": [
        {
          "output_type": "stream",
          "name": "stdout",
          "text": [
            "\n",
            "Comparação de Durabilidade por Fórmula:\n",
            "   id_produto  media_durabilidade  desvio_padrao_durabilidade\n",
            "0           1               15.11                    3.284168\n",
            "1           2                7.77                    1.942897\n",
            "2           3               28.52                   11.110537\n"
          ]
        }
      ]
    },
    {
      "cell_type": "code",
      "source": [
        "\n",
        "# Teste de Anova para verificar diferenças na durabilidade entre as fórmulas\n",
        "f_statistic, p_value = stats.f_oneway(df[df['id_produto'] == 1]['durabilidade'],\n",
        "                                      df[df['id_produto'] == 2]['durabilidade'],\n",
        "                                      df[df['id_produto'] == 3]['durabilidade'])\n",
        "\n",
        "alpha = 0.05\n",
        "print(\"\\nTeste de Anova (Diferença entre as Fórmulas):\")\n",
        "print(\"Estatística F:\", f_statistic)\n",
        "print(\"Valor p:\", p_value)\n",
        "\n",
        "if p_value < alpha:\n",
        "    print(\"Existe diferença estatisticamente significativa na durabilidade dos batons com fórmulas diferentes.\")\n",
        "else:\n",
        "    print(\"Não há diferença estatisticamente significativa na durabilidade dos batons com fórmulas diferentes.\")\n"
      ],
      "metadata": {
        "colab": {
          "base_uri": "https://localhost:8080/"
        },
        "id": "TufRVVD4PKXq",
        "outputId": "cf8e885c-cef6-4967-baa8-f283603212bf"
      },
      "execution_count": null,
      "outputs": [
        {
          "output_type": "stream",
          "name": "stdout",
          "text": [
            "\n",
            "Teste de Anova (Diferença entre as Fórmulas):\n",
            "Estatística F: 240.6680561187368\n",
            "Valor p: 7.345246616757137e-63\n",
            "Existe diferença estatisticamente significativa na durabilidade dos batons com fórmulas diferentes.\n"
          ]
        }
      ]
    },
    {
      "cell_type": "code",
      "source": [
        "# Análise considerando a exposição ao sol\n",
        "exposta_durabilidade = df[df['exposicao_sol'] == 1]['durabilidade']\n",
        "nao_exposta_durabilidade = df[df['exposicao_sol'] == 0]['durabilidade']\n",
        "\n",
        "t_statistic, p_value_sol = stats.ttest_ind(exposta_durabilidade, nao_exposta_durabilidade)\n",
        "\n",
        "print(\"\\nTeste t (Diferença de Durabilidade com Exposição ao Sol):\")\n",
        "print(\"Estatística t:\", t_statistic)\n",
        "print(\"Valor p:\", p_value_sol)\n",
        "\n",
        "if p_value_sol < alpha:\n",
        "    print(\"Existe diferença estatisticamente significativa na durabilidade considerando a exposição ao sol.\")\n",
        "else:\n",
        "    print(\"Não há diferença estatisticamente significativa na durabilidade considerando a exposição ao sol.\")\n"
      ],
      "metadata": {
        "colab": {
          "base_uri": "https://localhost:8080/"
        },
        "id": "bUQlA-xnPPeu",
        "outputId": "5a1a0642-fb0c-4094-e073-e6def9962475"
      },
      "execution_count": null,
      "outputs": [
        {
          "output_type": "stream",
          "name": "stdout",
          "text": [
            "\n",
            "Teste t (Diferença de Durabilidade com Exposição ao Sol):\n",
            "Estatística t: -6.569037741942654\n",
            "Valor p: 2.2536816589784333e-10\n",
            "Existe diferença estatisticamente significativa na durabilidade considerando a exposição ao sol.\n"
          ]
        }
      ]
    },
    {
      "cell_type": "code",
      "source": [
        "# Análise considerando a idade\n",
        "jovens_durabilidade = df[df['idade'] < 30]['durabilidade']\n",
        "adultos_durabilidade = df[df['idade'] >= 30]['durabilidade']\n",
        "\n",
        "t_statistic, p_value_idade = stats.ttest_ind(jovens_durabilidade, adultos_durabilidade)\n",
        "\n",
        "print(\"\\nTeste t (Diferença de Durabilidade com Relação à Idade):\")\n",
        "print(\"Estatística t:\", t_statistic)\n",
        "print(\"Valor p:\", p_value_idade)\n",
        "\n",
        "if p_value_idade < alpha:\n",
        "    print(\"Existe diferença estatisticamente significativa na durabilidade considerando a idade das voluntárias.\")\n",
        "else:\n",
        "    print(\"Não há diferença estatisticamente significativa na durabilidade considerando a idade das voluntárias.\")"
      ],
      "metadata": {
        "colab": {
          "base_uri": "https://localhost:8080/"
        },
        "id": "3OBPqoPDPTkN",
        "outputId": "75a4c52c-a283-405e-8b58-15a2a7e57832"
      },
      "execution_count": null,
      "outputs": [
        {
          "output_type": "stream",
          "name": "stdout",
          "text": [
            "\n",
            "Teste t (Diferença de Durabilidade com Relação à Idade):\n",
            "Estatística t: 8.311725045129682\n",
            "Valor p: 3.381876992708049e-15\n",
            "Existe diferença estatisticamente significativa na durabilidade considerando a idade das voluntárias.\n"
          ]
        }
      ]
    },
    {
      "cell_type": "markdown",
      "source": [
        "3- Qual fórmula de batom voce indicaria para consumidores que buscam maior\n",
        "durabilidade e exposicao ao sol?"
      ],
      "metadata": {
        "id": "jPBPFUyS3xRQ"
      }
    },
    {
      "cell_type": "code",
      "source": [
        "# solução da questão 3\n",
        "# Grazielle"
      ],
      "metadata": {
        "id": "PCFLmuteqnRv"
      },
      "execution_count": null,
      "outputs": []
    },
    {
      "cell_type": "code",
      "source": [
        "# Vamos criar faixas etárias para facilitar a visualização\n",
        "df['faixa_etaria'] = pd.cut(df['idade'], bins=[0, 20, 30, 40, 50, 60, 100], labels=['0-20', '21-30', '31-40', '41-50', '51-60', '61+'])"
      ],
      "metadata": {
        "id": "AtlHtWrPrAPC"
      },
      "execution_count": null,
      "outputs": []
    },
    {
      "cell_type": "code",
      "source": [
        "# Vamos plotar o boxplot para entendermos visualmente\n",
        "plt.figure(figsize=(10, 6))\n",
        "sns.boxplot(x='faixa_etaria', y='durabilidade', hue='exposicao_sol', data=df, palette={0: 'lightgreen', 1: 'lightsalmon'})\n",
        "plt.title('Boxplot de Durabilidade por Faixa Etária e Exposição ao Sol')\n",
        "plt.xlabel('Faixa Etária')\n",
        "plt.ylabel('Durabilidade')\n",
        "plt.show()"
      ],
      "metadata": {
        "colab": {
          "base_uri": "https://localhost:8080/",
          "height": 565
        },
        "id": "LZoHrvv0qdhe",
        "outputId": "e4c3a71f-7690-4d2f-bc6e-80e789d6b6e1"
      },
      "execution_count": null,
      "outputs": [
        {
          "output_type": "display_data",
          "data": {
            "text/plain": [
              "<Figure size 1000x600 with 1 Axes>"
            ],
            "image/png": "[encoded data removed]"
          },
          "metadata": {}
        }
      ]
    },
    {
      "cell_type": "code",
      "source": [
        "# Calcular a mediana da durabilidade para cada fórmula em diferentes níveis de exposição ao sol\n",
        "median_durability_by_formula = df.groupby(['id_produto', 'exposicao_sol'])['durabilidade'].median().unstack()\n",
        "\n",
        "# Visualizar as medianas da durabilidade\n",
        "print(\"Medianas da Durabilidade para cada Fórmula e Exposição ao Sol:\")\n",
        "print(median_durability_by_formula)\n",
        "\n",
        "# Definir uma paleta de cores\n",
        "colors = sns.color_palette(\"pastel\", n_colors=len(median_durability_by_formula.columns))\n",
        "\n",
        "# Plotar um gráfico para visualizar as medianas da durabilidade\n",
        "plt.figure(figsize=(10, 6))\n",
        "median_durability_by_formula.plot(kind='bar', color=colors)\n",
        "plt.title('Durabilidade por Fórmula e Exposição ao Sol')\n",
        "plt.xlabel('Fórmula do Batom (ID do Produto)')\n",
        "plt.ylabel('Durabilidade (Mediana)')\n",
        "plt.xticks(rotation=0)\n",
        "plt.legend(title='Exposição ao Sol', labels=['Não', 'Sim'])\n",
        "plt.show()\n"
      ],
      "metadata": {
        "colab": {
          "base_uri": "https://localhost:8080/",
          "height": 600
        },
        "id": "8pFBHUfpzRfq",
        "outputId": "4fcbf9da-960d-4d6a-de61-c319b91f042b"
      },
      "execution_count": null,
      "outputs": [
        {
          "output_type": "stream",
          "name": "stdout",
          "text": [
            "Medianas da Durabilidade para cada Fórmula e Exposição ao Sol:\n",
            "exposicao_sol     0     1\n",
            "id_produto               \n",
            "1              18.0  12.0\n",
            "2               8.0   7.0\n",
            "3              33.0  19.0\n"
          ]
        },
        {
          "output_type": "display_data",
          "data": {
            "text/plain": [
              "<Figure size 1000x600 with 0 Axes>"
            ]
          },
          "metadata": {}
        },
        {
          "output_type": "display_data",
          "data": {
            "text/plain": [
              "<Figure size 640x480 with 1 Axes>"
            ],
            "image/png": "[encoded data removed]"
          },
          "metadata": {}
        }
      ]
    },
    {
      "cell_type": "markdown",
      "source": [
        "**Indicamos a fórmula 3 , posi ela é a que oferece a maior relação entre durabilidade a exposição ao sol.**"
      ],
      "metadata": {
        "id": "gcks4b7Ttwv0"
      }
    },
    {
      "cell_type": "markdown",
      "source": [
        "Mateiral de Apoio:\n",
        "https://medium.com/rodrigo-lampier/usando-teste-de-hip%C3%B3teses-para-responder-quest%C3%B5es-de-neg%C3%B3cio-8a3d5ae9ebc0"
      ],
      "metadata": {
        "id": "lcZ-QMMV3zZ2"
      }
    },
    {
      "cell_type": "markdown",
      "source": [
        "### Desafio 2 :"
      ],
      "metadata": {
        "id": "mI12gHne36pB"
      }
    },
    {
      "cell_type": "markdown",
      "source": [
        "\n",
        "\n",
        "Imagine que voce trabalha em uma empresa do setor alimentício, e o preço de\n",
        "determinado produto, um novo picolé, tem uma distribuição normal com média igual a `R$7,85` e desvio padrão igual a `R$3,32`. Suspeita-se que devido ao verão, em determinadas localidades de praia o preco do picolé esteja mais caro.\n",
        "Para verificar se esse efeito é estatisticamente significativo, contactaram voce, analista de dados.<br>\n",
        "Suponha que para realizar essa análise voce tenha dados de 45 lojas em cidades do litoral, escolhidas aleatoriamente. E constatou que o preço médio do picolé nessas cidades é de `R$11,52`.\n"
      ],
      "metadata": {
        "id": "wkXcDaeN3L5Q"
      }
    },
    {
      "cell_type": "markdown",
      "source": [
        "1. Voce pode concluir que existe diferenca de precos estatisticamente\n",
        "relevante com `5%` de significancia?\n"
      ],
      "metadata": {
        "id": "Wve0MH2A4JVw"
      }
    },
    {
      "cell_type": "code",
      "source": [
        "# solução da questão 1\n",
        "# Leli e Maria Alice\n",
        "\n",
        "from scipy.stats import t\n",
        "\n",
        "# Dados\n",
        "media_hipotetica = 7.85  # Preço médio hipotético do picolé (R$)\n",
        "desvio_padrao = 3.32  # Desvio padrão do preço do picolé (R$)\n",
        "media_amostral = 11.52  # Preço médio amostral do picolé nas cidades do litoral (R$)\n",
        "n = 45  # Tamanho da amostra\n",
        "significancia = 0.05  # Nível de significância\n",
        "\n",
        "# Calculando a estatística do teste t\n",
        "t_valor = (media_amostral - media_hipotetica) / (desvio_padrao / (n ** 0.5))\n",
        "\n",
        "# Calculando o valor crítico de t para um teste bilateral\n",
        "graus_de_liberdade = n - 1\n",
        "t_critico_esquerda = t.ppf(significancia / 2, graus_de_liberdade)\n",
        "t_critico_direita = t.ppf(1 - (significancia / 2), graus_de_liberdade)\n",
        "\n",
        "# Imprimindo os resultados\n",
        "print(\"Valor do t calculado:\", t_valor)\n",
        "print(\"Valor crítico de t (esquerda):\", t_critico_esquerda)\n",
        "print(\"Valor crítico de t (direita):\", t_critico_direita)\n",
        "\n",
        "# Tomando a decisão\n",
        "if t_valor < t_critico_esquerda or t_valor > t_critico_direita:\n",
        "    print(\"Rejeitamos a hipótese nula.\")\n",
        "    print(\"Há uma diferença estatisticamente relevante nos preços dos picolés.\")\n",
        "else:\n",
        "    print(\"Não rejeitamos a hipótese nula.\")\n",
        "    print(\"Não há uma diferença estatisticamente relevante nos preços dos picolés.\")"
      ],
      "metadata": {
        "colab": {
          "base_uri": "https://localhost:8080/"
        },
        "id": "0PKli1_zW78b",
        "outputId": "c571dbf0-3f83-43cd-ccf8-42087d32f7a0"
      },
      "execution_count": null,
      "outputs": [
        {
          "output_type": "stream",
          "name": "stdout",
          "text": [
            "Valor do t calculado: 7.415394106106231\n",
            "Valor crítico de t (esquerda): -2.0153675699129416\n",
            "Valor crítico de t (direita): 2.015367569912941\n",
            "Rejeitamos a hipótese nula.\n",
            "Há uma diferença estatisticamente relevante nos preços dos picolés.\n"
          ]
        }
      ]
    },
    {
      "cell_type": "markdown",
      "source": [
        "2. Qual o valor da variável teste, o intervalo de confianca e o p-valor?"
      ],
      "metadata": {
        "id": "6am3UZZv4JHv"
      }
    },
    {
      "cell_type": "code",
      "execution_count": null,
      "metadata": {
        "id": "u70pwirF252O"
      },
      "outputs": [],
      "source": [
        "# solução da questão 2\n",
        "# Sandra e Carla Maria"
      ]
    },
    {
      "cell_type": "code",
      "source": [
        "media_geral = 7.85\n",
        "d_padrao = 3.32\n",
        "n = 45\n",
        "preco_medio_cidades_litoral = 11.52\n",
        "alpha = 0.05\n",
        "\n",
        "# valor da variável teste\n",
        "z_score = (preco_medio_cidades_litoral - media_geral) / (d_padrao / np.sqrt(n))\n",
        "print(\"Valor da variável teste:\", z_score)\n",
        "\n",
        "\n",
        "# intervalo de confiança\n",
        "z = stats.norm.ppf(1 - (0.05 / 2))\n",
        "\n",
        "intervalo_de_confianca = z * (d_padrao / np.sqrt(n))\n",
        "\n",
        "limite_infe = preco_medio_cidades_litoral - intervalo_de_confianca\n",
        "limite_supe = preco_medio_cidades_litoral + intervalo_de_confianca\n",
        "\n",
        "print('Intervalo de confiança é:', (limite_infe, limite_supe))\n",
        "\n",
        "# p-value\n",
        "p_value = 1 - stats.norm.cdf(z_score)\n",
        "print(\"p_value é:\", p_value)\n"
      ],
      "metadata": {
        "colab": {
          "base_uri": "https://localhost:8080/"
        },
        "id": "hwbrfYGvc4as",
        "outputId": "6e13b7e2-c8ff-4174-c4d7-dffb3aa0caa8"
      },
      "execution_count": null,
      "outputs": [
        {
          "output_type": "stream",
          "name": "stdout",
          "text": [
            "Valor da variável teste: 7.415394106106231\n",
            "Intervalo de confiança é: (10.549981721761917, 12.490018278238082)\n",
            "p_value é: 6.061817714453355e-14\n"
          ]
        }
      ]
    }
  ]
}